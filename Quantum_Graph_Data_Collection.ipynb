{
 "cells": [
  {
   "cell_type": "code",
   "execution_count": 1,
   "metadata": {
    "collapsed": false
   },
   "outputs": [
    {
     "name": "stdout",
     "output_type": "stream",
     "text": [
      "Populating the interactive namespace from numpy and matplotlib\n"
     ]
    },
    {
     "data": {
      "text/plain": [
       "{'Counter0Enabled': False,\n",
       " 'Counter1Enabled': False,\n",
       " 'NumberTimersEnabled': 0,\n",
       " 'TimerCounterPinOffset': 0}"
      ]
     },
     "execution_count": 1,
     "metadata": {},
     "output_type": "execute_result"
    }
   ],
   "source": [
    "import u6\n",
    "from time import sleep\n",
    "from datetime import datetime\n",
    "import traceback\n",
    "import numpy as np\n",
    "from scipy import signal\n",
    "from scipy.fftpack import fft\n",
    "from scipy import linspace,sqrt, exp,log #linspace allows us to generate linear array between start and stop points\n",
    "import scipy.optimize as optimization #curve fitting\n",
    "import matplotlib.pyplot as plt\n",
    "#testing goodness of fit\n",
    "from scipy.stats import chi2 \n",
    "from scipy.stats import chisqprob \n",
    "#make pretty comments\n",
    "from IPython.display import Latex \n",
    "#in case we want interactivity\n",
    "from ipywidgets import interactive \n",
    "from ipywidgets import FloatProgress\n",
    "from IPython.display import display\n",
    "%pylab inline --no-import-all \n",
    "import h5py    # HDF5 support\n",
    "d = u6.U6()\n",
    "\n",
    "# Set up U6\n",
    "d.configU6()\n",
    "\n",
    "# For applying the proper calibration to readings.\n",
    "d.getCalibrationData()\n",
    "\n",
    "# Set the FIO0 to Analog\n",
    "d.configIO()"
   ]
  },
  {
   "cell_type": "code",
   "execution_count": 2,
   "metadata": {
    "collapsed": false
   },
   "outputs": [
    {
     "name": "stdout",
     "output_type": "stream",
     "text": [
      "configuring U6 stream\n"
     ]
    }
   ],
   "source": [
    "# MAX_REQUESTS is the number of packets to be read.\n",
    "MAX_REQUESTS =16\n",
    "# the number of samples will be MAX_REQUESTS times 48 (packets per request) times 25 (samples per packet).\n",
    "\n",
    "#Sample rate in Hz\n",
    "SAMPLE_RATE=pow(2,12)\n",
    "\n",
    "print \"configuring U6 stream\"\n",
    "#d.streamConfig( NumChannels = 1,SamplesPerPacket=25,InternalStreamClockFrequency=1,DivideClockBy256=True, ResolutionIndex = 0 )\n",
    "d.streamConfig( NumChannels = 2, ChannelNumbers = [ 0, 1 ], ChannelOptions = [ 0, 0 ], SettlingFactor = 0, ResolutionIndex = 0, ScanFrequency = SAMPLE_RATE )"
   ]
  },
  {
   "cell_type": "code",
   "execution_count": 3,
   "metadata": {
    "collapsed": false
   },
   "outputs": [
    {
     "data": {
      "text/plain": [
       "153600"
      ]
     },
     "execution_count": 3,
     "metadata": {},
     "output_type": "execute_result"
    }
   ],
   "source": [
    "128*25*48\n"
   ]
  },
  {
   "cell_type": "code",
   "execution_count": 4,
   "metadata": {
    "collapsed": false
   },
   "outputs": [],
   "source": [
    "def getFreq(y,Fs):\n",
    "    \n",
    "    n = len(y) # length of the signal\n",
    "    w=signal.blackman(n)\n",
    "    k = np.arange(n)\n",
    "\n",
    "    T = 1.*n/Fs\n",
    "\n",
    "    #print T\n",
    "    frq = k/T # two sides frequency range\n",
    "    frq = frq[range(n/2)] # one side frequency range\n",
    "   \n",
    "    Y = np.abs(fft(y*w)*10.) # fft computing and normalization\n",
    "    max_index=np.argmax(Y[1:n/2])\n",
    "    #max_frq=np.mean[frq[max_index-4:max_index+4]]\n",
    "    \n",
    "    #uncomment if we need to see plots of FFT for diagonosis\n",
    "    #fig, axes=plt.subplots()\n",
    "    #axes.plot(frq,Y[0:n/2])\n",
    "    \n",
    "    return (frq[max_index])"
   ]
  },
  {
   "cell_type": "code",
   "execution_count": 5,
   "metadata": {
    "collapsed": true
   },
   "outputs": [],
   "source": [
    "def getData():\n",
    "    data1=np.array([],dtype=float)\n",
    "    data2=np.array([],dtype=float)\n",
    "    try:\n",
    "       # print \"start stream\",\n",
    "        d.streamStart()\n",
    "        start = datetime.now()\n",
    "        #print start\n",
    "        \n",
    "        missed = 0\n",
    "        dataCount = 0\n",
    "        packetCount = 0\n",
    "    \n",
    "        for r in d.streamData():\n",
    "            if r is not None:\n",
    "                # Our stop condition\n",
    "                if dataCount >= MAX_REQUESTS:\n",
    "                    break\n",
    "                \n",
    "                if r['errors'] != 0:\n",
    "                    print \"Error: %s ; \" % r['errors'], datetime.now()\n",
    "    \n",
    "                if r['numPackets'] != d.packetsPerRequest:\n",
    "                    print \"----- UNDERFLOW : %s : \" % r['numPackets'], datetime.now()\n",
    "    \n",
    "                if r['missed'] != 0:\n",
    "                    missed += r['missed']\n",
    "                    print \"+++ Missed \", r['missed']\n",
    "               \n",
    "                data1=np.append(data1,r['AIN0'])\n",
    "                data2=np.append(data2,r['AIN1'])\n",
    "                dataCount += 1\n",
    "                packetCount += r['numPackets']\n",
    "            else:\n",
    "                # Got no data back from our read.\n",
    "                # This only happens if your stream isn't faster than the \n",
    "                # the USB read timeout, ~1 sec.\n",
    "                print \"No data\", datetime.now()\n",
    "    except:\n",
    "        print \"\".join(i for i in traceback.format_exc())\n",
    "    finally:\n",
    "        stop = datetime.now()\n",
    "        d.streamStop()\n",
    "        \n",
    "        #Find Frequency\n",
    "        frq=getFreq(data1,SAMPLE_RATE)\n",
    "        \n",
    "        #Get power\n",
    "        power=np.std(data2)\n",
    "       \n",
    "    return(frq,power)"
   ]
  },
  {
   "cell_type": "code",
   "execution_count": 6,
   "metadata": {
    "collapsed": false
   },
   "outputs": [],
   "source": [
    "# setDAC takes a voltage value, converts to 16 bit value, then puts\n",
    "# outputs voltage to channel 0\n",
    "def setDAC(Volts):\n",
    "    bVolts=d.voltageToDACBits(Volts,dacNumber=0,is16Bits=True)\n",
    "    d.getFeedback(u6.DAC16( 0,  bVolts))\n",
    "    return"
   ]
  },
  {
   "cell_type": "code",
   "execution_count": 7,
   "metadata": {
    "collapsed": false
   },
   "outputs": [],
   "source": [
    "setDAC(0.)"
   ]
  },
  {
   "cell_type": "code",
   "execution_count": null,
   "metadata": {
    "collapsed": false
   },
   "outputs": [],
   "source": []
  },
  {
   "cell_type": "code",
   "execution_count": null,
   "metadata": {
    "collapsed": true
   },
   "outputs": [],
   "source": []
  },
  {
   "cell_type": "code",
   "execution_count": 8,
   "metadata": {
    "collapsed": false
   },
   "outputs": [],
   "source": [
    "# cycleData creates a table of voltages to output to DAC,\n",
    "# wait for voltage to settle, and store rms value found at input\n",
    "# variable rms stores the spectrum and is what is returned\n",
    "\n",
    "def cycleData(lowV, HighV, numV):\n",
    "    f = FloatProgress(min=0, max=numV)\n",
    "    display(f)\n",
    "    volts=np.linspace(lowV,HighV,numV)    \n",
    "    power=np.array([],dtype=float)\n",
    "    freq=np.array([],dtype=float)\n",
    "    for i in volts:\n",
    "        setDAC(i)\n",
    "        sleep(.1)\n",
    "        \n",
    "        temp_freq,temp_power=getData()\n",
    "        \n",
    "        power=np.append(power,temp_power)\n",
    "        freq=np.append(freq,temp_freq)\n",
    "        f.value+=1\n",
    "    return (power,freq)"
   ]
  },
  {
   "cell_type": "code",
   "execution_count": 9,
   "metadata": {
    "collapsed": false
   },
   "outputs": [],
   "source": [
    "def plotData(freq, power):\n",
    "   \n",
    "    fig, axes = plt.subplots(1,1)\n",
    "    axes.plot(freq, power)\n",
    "    \n",
    "    axes.set_xlabel('frequency (Hz)')\n",
    "    axes.set_ylabel('rms voltage (V)')\n"
   ]
  },
  {
   "cell_type": "code",
   "execution_count": 10,
   "metadata": {
    "collapsed": true
   },
   "outputs": [],
   "source": [
    "def _smooth(x, window_len=11, window='hanning'):\n",
    "    \"\"\"\n",
    "    smooth the data using a window of the requested size.\n",
    "    \n",
    "    This method is based on the convolution of a scaled window on the signal.\n",
    "    The signal is prepared by introducing reflected copies of the signal \n",
    "    (with the window size) in both ends so that transient parts are minimized\n",
    "    in the begining and end part of the output signal.\n",
    "    \n",
    "    input:\n",
    "        x: the input signal \n",
    "        window_len: the dimension of the smoothing window; should be an odd \n",
    "            integer\n",
    "        window: the type of window from 'flat', 'hanning', 'hamming', \n",
    "            'bartlett', 'blackman'\n",
    "            flat window will produce a moving average smoothing.\n",
    "\n",
    "    output:\n",
    "        the smoothed signal\n",
    "        \n",
    "    example:\n",
    "\n",
    "    t = linspace(-2,2,0.1)\n",
    "    x = sin(t)+randn(len(t))*0.1\n",
    "    y = _smooth(x)\n",
    "    \n",
    "    see also: \n",
    "    \n",
    "    numpy.hanning, numpy.hamming, numpy.bartlett, numpy.blackman, \n",
    "    numpy.convolve, scipy.signal.lfilter\n",
    " \n",
    "    TODO: the window parameter could be the window itself if a list instead of\n",
    "    a string   \n",
    "    \"\"\"\n",
    "    if x.ndim != 1:\n",
    "        raise ValueError, \"smooth only accepts 1 dimension arrays.\"\n",
    " \n",
    "    if x.size < window_len:\n",
    "        raise ValueError, \"Input vector needs to be bigger than window size.\"\n",
    "    \n",
    "    if window_len<3:\n",
    "        return x\n",
    "    \n",
    "    if not window in ['flat', 'hanning', 'hamming', 'bartlett', 'blackman']:\n",
    "        raise(ValueError,\n",
    "            \"Window is not one of '{0}', '{1}', '{2}', '{3}', '{4}'\".format(\n",
    "            *('flat', 'hanning', 'hamming', 'bartlett', 'blackman')))\n",
    "    \n",
    "    s = np.r_[x[window_len-1:0:-1], x, x[-1:-window_len:-1]]\n",
    "    #print(len(s))\n",
    "    if window == 'flat': #moving average\n",
    "        w = np.ones(window_len,'d')\n",
    "    else:\n",
    "        w = eval('np.' + window + '(window_len)')\n",
    " \n",
    "    y = np.convolve(w / w.sum(), s, mode = 'valid')\n",
    "    return y\n",
    "    "
   ]
  },
  {
   "cell_type": "code",
   "execution_count": 29,
   "metadata": {
    "collapsed": false
   },
   "outputs": [
    {
     "name": "stdout",
     "output_type": "stream",
     "text": [
      "949.76\n",
      "1390.08\n"
     ]
    },
    {
     "data": {
      "text/plain": [
       "50"
      ]
     },
     "execution_count": 29,
     "metadata": {},
     "output_type": "execute_result"
    },
    {
     "data": {
      "image/png": "[encoded data removed]",
      "text/plain": [
       "<matplotlib.figure.Figure at 0x7f7969a60d10>"
      ]
     },
     "metadata": {},
     "output_type": "display_data"
    }
   ],
   "source": [
    "#take spectrum\n",
    "spectrum,freq=cycleData(0.01,2.0,50)\n",
    "plotData(freq,spectrum)\n",
    "print freq[0]\n",
    "print freq[-1]\n",
    "setDAC(0)\n",
    "len(freq)"
   ]
  },
  {
   "cell_type": "code",
   "execution_count": 58,
   "metadata": {
    "collapsed": false
   },
   "outputs": [
    {
     "name": "stdout",
     "output_type": "stream",
     "text": [
      "Write a NeXus HDF5 file\n",
      "wrote file: ConfigA-949-1390-2016-10-21-1125.hdf5\n"
     ]
    }
   ],
   "source": [
    "\n",
    "\n",
    "\n",
    "print \"Write a NeXus HDF5 file\"\n",
    "filedate='{:%Y-%m-%d-%H%M}'.format(datetime.now())\n",
    "fileName=format('ConfigA-%s-%s-%s.hdf5' % (int(freq[0]), int(freq[-1]),blah))\n",
    "\n",
    "\n",
    "# load data from two column format\n",
    "data=np.column_stack((freq[:,np.newaxis],spectrum[:,np.newaxis])).T\n",
    "#data = numpy.loadtxt('test.dat',delimiter=',').T\n",
    "mr_arr = data[1]\n",
    "#i00_arr = numpy.asarray(data[1],'int32')\n",
    "i00_arr=data[0]\n",
    "# create the HDF5 NeXus file\n",
    "f = h5py.File(fileName, \"w\")\n",
    "# point to the default data to be plotted\n",
    "f.attrs['default']          = 'entry'\n",
    "# give the HDF5 root some more attributes\n",
    "f.attrs['file_name']        = fileName\n",
    "f.attrs['file_time']        = filedate\n",
    "f.attrs['instrument']       = 'APS USAXS at 32ID-B'\n",
    "f.attrs['creator']          = 'BasicWriter.py'\n",
    "f.attrs['NeXus_version']    = '4.3.0'\n",
    "f.attrs['HDF5_Version']     = h5py.version.hdf5_version\n",
    "f.attrs['h5py_version']     = h5py.version.version\n",
    "\n",
    "# create the NXentry group\n",
    "nxentry = f.create_group('entry')\n",
    "nxentry.attrs['NX_class'] = 'NXentry'\n",
    "nxentry.attrs['default'] = 'mr_scan'\n",
    "nxentry.create_dataset('title', data='1-D scan of I00 v. mr')\n",
    "\n",
    "# create the NXentry group\n",
    "nxdata = nxentry.create_group('mr_scan')\n",
    "nxdata.attrs['NX_class'] = 'NXdata'\n",
    "nxdata.attrs['signal'] = 'Intensity'      # Y axis of default plot\n",
    "nxdata.attrs['frequency'] = 'mr'         # X axis of default plot\n",
    "nxdata.attrs['mr_indices'] = [0,]   # use \"mr\" as the first dimension of I00\n",
    "\n",
    "# X axis data\n",
    "ds = nxdata.create_dataset('mr', data=mr_arr)\n",
    "ds.attrs['units'] = 'frequency'\n",
    "ds.attrs['long_name'] = 'frequency (Hz)'    # suggested X axis plot label\n",
    "\n",
    "# Y axis data\n",
    "ds = nxdata.create_dataset('I00', data=i00_arr)\n",
    "ds.attrs['units'] = 'counts'\n",
    "ds.attrs['long_name'] = 'Intensity V'    # suggested Y axis plot label\n",
    "\n",
    "f.close()   # be CERTAIN to close the file\n",
    "\n",
    "print \"wrote file:\", fileName"
   ]
  },
  {
   "cell_type": "code",
   "execution_count": 55,
   "metadata": {
    "collapsed": false
   },
   "outputs": [],
   "source": [
    "data_out=np.column_stack((freq[:,np.newaxis],spectrum[:,np.newaxis]))\n",
    "np.savetxt('configA-74-95-072316a.dat', data_out, delimiter=',')"
   ]
  },
  {
   "cell_type": "code",
   "execution_count": null,
   "metadata": {
    "collapsed": true
   },
   "outputs": [],
   "source": [
    "data_out=np.column_stack((freq[:,np.newaxis],spectrum[:,np.newaxis]))\n",
    "np.savetxt('configA-4-333-071615.dat', data_out, delimiter=',')"
   ]
  },
  {
   "cell_type": "code",
   "execution_count": 40,
   "metadata": {
    "collapsed": false
   },
   "outputs": [],
   "source": [
    "d.close()"
   ]
  },
  {
   "cell_type": "code",
   "execution_count": null,
   "metadata": {
    "collapsed": false
   },
   "outputs": [],
   "source": [
    "index=_smooth(spectrum,1)\n",
    "d=np.diff(index)\n",
    "dd=np.diff(d)\n",
    "v=np.sign(d[:len(freq)])\n",
    "\n",
    "resonances = freq[[np.where((v[:-1]!=v[1:])&(dd[:len(freq)-1]<0))][0]]\n",
    "print resonances"
   ]
  },
  {
   "cell_type": "code",
   "execution_count": null,
   "metadata": {
    "collapsed": false
   },
   "outputs": [],
   "source": [
    "fig, axes = plt.subplots(1,1)\n",
    "axes.plot(freq, _smooth(spectrum)[:len(freq)])\n",
    "for i in resonances:\n",
    "    axes.axvline(i)"
   ]
  },
  {
   "cell_type": "code",
   "execution_count": 50,
   "metadata": {
    "collapsed": false
   },
   "outputs": [],
   "source": [
    "blah ='{:%Y-%m-%d-%H%M}'.format(datetime.now())"
   ]
  },
  {
   "cell_type": "code",
   "execution_count": 51,
   "metadata": {
    "collapsed": false
   },
   "outputs": [],
   "source": [
    "filename=format('ConfigA-%s-%s-%s' % (int(freq[0]), int(freq[-1]),blah))"
   ]
  },
  {
   "cell_type": "code",
   "execution_count": 52,
   "metadata": {
    "collapsed": false
   },
   "outputs": [
    {
     "data": {
      "text/plain": [
       "'ConfigA-949-1390-2016-10-21-1125'"
      ]
     },
     "execution_count": 52,
     "metadata": {},
     "output_type": "execute_result"
    }
   ],
   "source": [
    "filename"
   ]
  },
  {
   "cell_type": "code",
   "execution_count": null,
   "metadata": {
    "collapsed": false
   },
   "outputs": [],
   "source": []
  },
  {
   "cell_type": "code",
   "execution_count": null,
   "metadata": {
    "collapsed": true
   },
   "outputs": [],
   "source": []
  },
  {
   "cell_type": "code",
   "execution_count": null,
   "metadata": {
    "collapsed": false
   },
   "outputs": [],
   "source": []
  },
  {
   "cell_type": "code",
   "execution_count": null,
   "metadata": {
    "collapsed": false
   },
   "outputs": [],
   "source": [
    "f,p"
   ]
  },
  {
   "cell_type": "code",
   "execution_count": null,
   "metadata": {
    "collapsed": false
   },
   "outputs": [],
   "source": [
    "plt.plot(da)"
   ]
  },
  {
   "cell_type": "code",
   "execution_count": null,
   "metadata": {
    "collapsed": true
   },
   "outputs": [],
   "source": []
  }
 ],
 "metadata": {
  "anaconda-cloud": {},
  "kernelspec": {
   "display_name": "Python [default]",
   "language": "python",
   "name": "python2"
  },
  "language_info": {
   "codemirror_mode": {
    "name": "ipython",
    "version": 2
   },
   "file_extension": ".py",
   "mimetype": "text/x-python",
   "name": "python",
   "nbconvert_exporter": "python",
   "pygments_lexer": "ipython2",
   "version": "2.7.12"
  },
  "widgets": {
   "state": {
    "0515eaa37b324aaebfac4a0c644c1f4a": {
     "views": [
      {
       "cell_index": 12
      }
     ]
    }
   },
   "version": "1.2.0"
  }
 },
 "nbformat": 4,
 "nbformat_minor": 0
}
